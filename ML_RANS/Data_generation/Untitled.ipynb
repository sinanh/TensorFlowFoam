{
 "cells": [
  {
   "cell_type": "code",
   "execution_count": 20,
   "metadata": {},
   "outputs": [],
   "source": []
  },
  {
   "cell_type": "code",
   "execution_count": 27,
   "metadata": {},
   "outputs": [],
   "source": [
    "f = open(\"U\",\"r\")\n",
    "lines = f.readlines()\n",
    "a = 342\n",
    "lines[25] =f\"        value           uniform ({a} 0 0);\\n\"\n",
    "\n",
    "f = open(\"U\",\"w\")\n",
    "f.writelines(lines)\n",
    "f.close()"
   ]
  },
  {
   "cell_type": "code",
   "execution_count": 22,
   "metadata": {},
   "outputs": [],
   "source": []
  },
  {
   "cell_type": "code",
   "execution_count": 1,
   "metadata": {},
   "outputs": [
    {
     "name": "stdout",
     "output_type": "stream",
     "text": [
      "1.2\n",
      "1.3\n",
      "1.4000000000000001\n",
      "1.5000000000000002\n",
      "1.6000000000000003\n",
      "1.7000000000000004\n",
      "1.8000000000000005\n",
      "1.9000000000000006\n",
      "2.000000000000001\n",
      "2.1000000000000005\n",
      "2.200000000000001\n",
      "2.3000000000000007\n",
      "2.4000000000000012\n",
      "2.500000000000001\n",
      "2.6000000000000014\n",
      "2.700000000000001\n",
      "2.8000000000000016\n",
      "2.9000000000000012\n",
      "3.0000000000000018\n",
      "3.1000000000000014\n",
      "3.200000000000002\n",
      "3.3000000000000016\n"
     ]
    }
   ],
   "source": [
    "import numpy\n",
    "for i in numpy.arange(1.2, 3.4, 0.1):\n",
    "    print(i)"
   ]
  },
  {
   "cell_type": "code",
   "execution_count": null,
   "metadata": {},
   "outputs": [],
   "source": []
  }
 ],
 "metadata": {
  "kernelspec": {
   "display_name": "Python 3",
   "language": "python",
   "name": "python3"
  },
  "language_info": {
   "codemirror_mode": {
    "name": "ipython",
    "version": 3
   },
   "file_extension": ".py",
   "mimetype": "text/x-python",
   "name": "python",
   "nbconvert_exporter": "python",
   "pygments_lexer": "ipython3",
   "version": "3.6.9"
  }
 },
 "nbformat": 4,
 "nbformat_minor": 2
}
