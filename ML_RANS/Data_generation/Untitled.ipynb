{
 "cells": [
  {
   "cell_type": "code",
   "execution_count": 3,
   "metadata": {},
   "outputs": [
    {
     "name": "stdout",
     "output_type": "stream",
     "text": [
      "train/0.50h/nut /home/pc/TensorFlowFoam/ML_RANS/Data_generation\n",
      "train/0.50h/Cy /home/pc/TensorFlowFoam/ML_RANS/Data_generation\n",
      "train/0.50h/Cx /home/pc/TensorFlowFoam/ML_RANS/Data_generation\n",
      "train/0.50h/U /home/pc/TensorFlowFoam/ML_RANS/Data_generation\n",
      "train/0.75h/nut /home/pc/TensorFlowFoam/ML_RANS/Data_generation\n",
      "train/0.75h/Cy /home/pc/TensorFlowFoam/ML_RANS/Data_generation\n",
      "train/0.75h/Cx /home/pc/TensorFlowFoam/ML_RANS/Data_generation\n",
      "train/0.75h/U /home/pc/TensorFlowFoam/ML_RANS/Data_generation\n",
      "train/0.90h/nut /home/pc/TensorFlowFoam/ML_RANS/Data_generation\n",
      "train/0.90h/Cy /home/pc/TensorFlowFoam/ML_RANS/Data_generation\n",
      "train/0.90h/Cx /home/pc/TensorFlowFoam/ML_RANS/Data_generation\n",
      "train/0.90h/U /home/pc/TensorFlowFoam/ML_RANS/Data_generation\n",
      "train/1.25h/nut /home/pc/TensorFlowFoam/ML_RANS/Data_generation\n",
      "train/1.25h/Cy /home/pc/TensorFlowFoam/ML_RANS/Data_generation\n",
      "train/1.25h/Cx /home/pc/TensorFlowFoam/ML_RANS/Data_generation\n",
      "train/1.25h/U /home/pc/TensorFlowFoam/ML_RANS/Data_generation\n",
      "train/1.50h/nut /home/pc/TensorFlowFoam/ML_RANS/Data_generation\n",
      "train/1.50h/Cy /home/pc/TensorFlowFoam/ML_RANS/Data_generation\n",
      "train/1.50h/Cx /home/pc/TensorFlowFoam/ML_RANS/Data_generation\n",
      "train/1.50h/U /home/pc/TensorFlowFoam/ML_RANS/Data_generation\n",
      "train/1.75h/nut /home/pc/TensorFlowFoam/ML_RANS/Data_generation\n",
      "train/1.75h/Cy /home/pc/TensorFlowFoam/ML_RANS/Data_generation\n",
      "train/1.75h/Cx /home/pc/TensorFlowFoam/ML_RANS/Data_generation\n",
      "train/1.75h/U /home/pc/TensorFlowFoam/ML_RANS/Data_generation\n",
      "train/1.90h/nut /home/pc/TensorFlowFoam/ML_RANS/Data_generation\n",
      "train/1.90h/Cy /home/pc/TensorFlowFoam/ML_RANS/Data_generation\n",
      "train/1.90h/Cx /home/pc/TensorFlowFoam/ML_RANS/Data_generation\n",
      "train/1.90h/U /home/pc/TensorFlowFoam/ML_RANS/Data_generation\n",
      "train/2.00h/nut /home/pc/TensorFlowFoam/ML_RANS/Data_generation\n",
      "train/2.00h/Cy /home/pc/TensorFlowFoam/ML_RANS/Data_generation\n",
      "train/2.00h/Cx /home/pc/TensorFlowFoam/ML_RANS/Data_generation\n",
      "train/2.00h/U /home/pc/TensorFlowFoam/ML_RANS/Data_generation\n"
     ]
    },
    {
     "data": {
      "text/plain": [
       "0"
      ]
     },
     "execution_count": 3,
     "metadata": {},
     "output_type": "execute_result"
    }
   ],
   "source": [
    "\"\"\"\n",
    "This script converts ESI OpenFOAM output to be compliant with TensorFlowFoam.\n",
    "\"\"\"\n",
    "\n",
    "import os\n",
    "from shutil import copyfile\n",
    "\n",
    "\n",
    "filenames = {\"U\":\"U\", \"Cy\":\"cy\", \"Cx\":\"cx\", \"nut\":\"nut\"}\n",
    "curdir = \"\"\n",
    "count = 0 \n",
    "\n",
    "CUR_DIR = os.getcwd()\n",
    "\n",
    "for subdir, dirs, files in os.walk(r'train'):\n",
    "    dirs.sort()\n",
    "    for filename in files:\n",
    "        if curdir != subdir:\n",
    "            curdir = subdir\n",
    "            count += 1\n",
    "            \n",
    "        filepath = subdir + os.sep + filename\n",
    "\n",
    "        if filename in filenames:\n",
    "            #print(subdir, filename, count)\n",
    "            print(filepath, CUR_DIR)\n",
    "            copyfile(filepath, f\"{CUR_DIR}/{filenames[filename]}_{count}\")\n",
    "        \n",
    "os.system(\"python3 training_data_maker.py ESI\")\n",
    "            "
   ]
  },
  {
   "cell_type": "code",
   "execution_count": null,
   "metadata": {},
   "outputs": [],
   "source": []
  }
 ],
 "metadata": {
  "kernelspec": {
   "display_name": "Python 3",
   "language": "python",
   "name": "python3"
  },
  "language_info": {
   "codemirror_mode": {
    "name": "ipython",
    "version": 3
   },
   "file_extension": ".py",
   "mimetype": "text/x-python",
   "name": "python",
   "nbconvert_exporter": "python",
   "pygments_lexer": "ipython3",
   "version": "3.6.9"
  }
 },
 "nbformat": 4,
 "nbformat_minor": 2
}
