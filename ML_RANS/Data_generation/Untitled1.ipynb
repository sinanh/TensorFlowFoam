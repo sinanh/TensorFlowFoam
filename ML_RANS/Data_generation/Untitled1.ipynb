{
 "cells": [
  {
   "cell_type": "code",
   "execution_count": 1,
   "metadata": {},
   "outputs": [],
   "source": [
    "import numpy as np"
   ]
  },
  {
   "cell_type": "code",
   "execution_count": 3,
   "metadata": {},
   "outputs": [],
   "source": [
    "df = np.load(\"Total_dataset.npy\")"
   ]
  },
  {
   "cell_type": "code",
   "execution_count": 4,
   "metadata": {},
   "outputs": [
    {
     "data": {
      "text/plain": [
       "(1478880, 6)"
      ]
     },
     "execution_count": 4,
     "metadata": {},
     "output_type": "execute_result"
    }
   ],
   "source": [
    "df.shape"
   ]
  },
  {
   "cell_type": "code",
   "execution_count": 5,
   "metadata": {},
   "outputs": [
    {
     "data": {
      "text/plain": [
       "184860.0"
      ]
     },
     "execution_count": 5,
     "metadata": {},
     "output_type": "execute_result"
    }
   ],
   "source": [
    "1478880/ 8"
   ]
  },
  {
   "cell_type": "code",
   "execution_count": 6,
   "metadata": {},
   "outputs": [
    {
     "data": {
      "text/plain": [
       "array([[ 4.28189e+01, -3.62450e-05, -8.07718e-01,  6.35228e-03,\n",
       "         5.00000e-01,  1.80411e-08],\n",
       "       [ 4.62972e+01,  1.04286e-04, -7.75960e-01,  6.35228e-03,\n",
       "         5.00000e-01,  3.86584e-08],\n",
       "       [ 4.12756e+01, -1.63875e-04, -7.50998e-01,  6.35228e-03,\n",
       "         5.00000e-01,  1.22422e-07],\n",
       "       ...,\n",
       "       [ 1.26967e+00,  2.82614e-05,  1.15589e+00,  2.28597e-01,\n",
       "         2.00000e+00,  4.21148e-08],\n",
       "       [ 1.46264e+00,  8.10511e-05,  1.20003e+00,  2.28597e-01,\n",
       "         2.00000e+00,  9.36530e-08],\n",
       "       [ 1.41409e+00,  6.10084e-06,  1.24619e+00,  2.28597e-01,\n",
       "         2.00000e+00,  1.74029e-07]])"
      ]
     },
     "execution_count": 6,
     "metadata": {},
     "output_type": "execute_result"
    }
   ],
   "source": [
    "df"
   ]
  },
  {
   "cell_type": "code",
   "execution_count": null,
   "metadata": {},
   "outputs": [],
   "source": []
  }
 ],
 "metadata": {
  "kernelspec": {
   "display_name": "Python 3",
   "language": "python",
   "name": "python3"
  },
  "language_info": {
   "codemirror_mode": {
    "name": "ipython",
    "version": 3
   },
   "file_extension": ".py",
   "mimetype": "text/x-python",
   "name": "python",
   "nbconvert_exporter": "python",
   "pygments_lexer": "ipython3",
   "version": "3.6.9"
  }
 },
 "nbformat": 4,
 "nbformat_minor": 4
}
